{
  "nbformat": 4,
  "nbformat_minor": 0,
  "metadata": {
    "colab": {
      "provenance": [],
      "authorship_tag": "ABX9TyO5jYmyWZ5D5K8tVPvffpwH",
      "include_colab_link": true
    },
    "kernelspec": {
      "name": "python3",
      "display_name": "Python 3"
    },
    "language_info": {
      "name": "python"
    }
  },
  "cells": [
    {
      "cell_type": "markdown",
      "metadata": {
        "id": "view-in-github",
        "colab_type": "text"
      },
      "source": [
        "<a href=\"https://colab.research.google.com/github/artificial-english/ae1/blob/main/ae_file1.ipynb\" target=\"_parent\"><img src=\"https://colab.research.google.com/assets/colab-badge.svg\" alt=\"Open In Colab\"/></a>"
      ]
    },
    {
      "cell_type": "code",
      "execution_count": null,
      "metadata": {
        "id": "9TjdhjjkaImJ",
        "colab": {
          "base_uri": "https://localhost:8080/"
        },
        "outputId": "3ba1dacf-3910-4d22-f1ae-184589a6a502"
      },
      "outputs": [
        {
          "output_type": "stream",
          "name": "stdout",
          "text": [
            "Requirement already satisfied: transliterate in /usr/local/lib/python3.11/dist-packages (1.10.2)\n",
            "Requirement already satisfied: indic-transliteration in /usr/local/lib/python3.11/dist-packages (2.3.69)\n",
            "Requirement already satisfied: six>=1.1.0 in /usr/local/lib/python3.11/dist-packages (from transliterate) (1.17.0)\n",
            "Requirement already satisfied: backports.functools-lru-cache in /usr/local/lib/python3.11/dist-packages (from indic-transliteration) (2.0.0)\n",
            "Requirement already satisfied: regex in /usr/local/lib/python3.11/dist-packages (from indic-transliteration) (2024.11.6)\n",
            "Requirement already satisfied: typer in /usr/local/lib/python3.11/dist-packages (from indic-transliteration) (0.16.0)\n",
            "Requirement already satisfied: toml in /usr/local/lib/python3.11/dist-packages (from indic-transliteration) (0.10.2)\n",
            "Requirement already satisfied: roman in /usr/local/lib/python3.11/dist-packages (from indic-transliteration) (5.0)\n",
            "Requirement already satisfied: click>=8.0.0 in /usr/local/lib/python3.11/dist-packages (from typer->indic-transliteration) (8.2.1)\n",
            "Requirement already satisfied: typing-extensions>=3.7.4.3 in /usr/local/lib/python3.11/dist-packages (from typer->indic-transliteration) (4.13.2)\n",
            "Requirement already satisfied: shellingham>=1.3.0 in /usr/local/lib/python3.11/dist-packages (from typer->indic-transliteration) (1.5.4)\n",
            "Requirement already satisfied: rich>=10.11.0 in /usr/local/lib/python3.11/dist-packages (from typer->indic-transliteration) (13.9.4)\n",
            "Requirement already satisfied: markdown-it-py>=2.2.0 in /usr/local/lib/python3.11/dist-packages (from rich>=10.11.0->typer->indic-transliteration) (3.0.0)\n",
            "Requirement already satisfied: pygments<3.0.0,>=2.13.0 in /usr/local/lib/python3.11/dist-packages (from rich>=10.11.0->typer->indic-transliteration) (2.19.1)\n",
            "Requirement already satisfied: mdurl~=0.1 in /usr/local/lib/python3.11/dist-packages (from markdown-it-py>=2.2.0->rich>=10.11.0->typer->indic-transliteration) (0.1.2)\n",
            "Hindi: नमस्ते दुनिया\n",
            "Transliterated English (ITRANS): namaste duniyA\n"
          ]
        }
      ],
      "source": [
        "# prompt: python code to replace letters, hindi to english\n",
        "\n",
        "# You'll need to install a library like `indic-transliteration`\n",
        "!pip install transliterate indic-transliteration\n",
        "\n",
        "from transliterate import translit\n",
        "from indic_transliteration import sanscript\n",
        "from indic_transliteration.sanscript import SchemeMap, SCHEMES, transliterate\n",
        "\n",
        "def hindi_to_english_transliterate(hindi_text):\n",
        "  \"\"\"\n",
        "  Transliterates Hindi text to English (ITRANS scheme).\n",
        "\n",
        "  Args:\n",
        "    hindi_text: The input Hindi string.\n",
        "\n",
        "  Returns:\n",
        "    The transliterated English string.\n",
        "  \"\"\"\n",
        "  # Using indic-transliteration for more comprehensive Hindi support\n",
        "  return transliterate(hindi_text, sanscript.DEVANAGARI, sanscript.ITRANS)\n",
        "\n",
        "# Example usage:\n",
        "hindi_string = \"नमस्ते दुनिया\"\n",
        "english_transliterated = hindi_to_english_transliterate(hindi_string)\n",
        "print(f\"Hindi: {hindi_string}\")\n",
        "print(f\"Transliterated English (ITRANS): {english_transliterated}\")\n",
        "\n",
        "# You can explore other schemes in indic-transliteration or use the\n",
        "# `transliterate` library for simpler cases or different schemes.\n",
        "# from transliterate.utils import _chars_mapping\n",
        "# print(_chars_mapping('hi')) # To see available mapping for Hindi\n"
      ]
    },
    {
      "cell_type": "markdown",
      "source": [
        "ae 11"
      ],
      "metadata": {
        "id": "2GnVw_TlaMd4"
      }
    }
  ]
}